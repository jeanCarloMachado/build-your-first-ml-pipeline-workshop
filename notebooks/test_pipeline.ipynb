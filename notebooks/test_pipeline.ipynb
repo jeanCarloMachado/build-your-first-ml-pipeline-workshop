{
 "cells": [
  {
   "cell_type": "markdown",
   "metadata": {},
   "source": [
    "# ML Pipeline\n",
    "\n",
    "A production-ready ML pipeline will usually go beyond the notebook and move the logic to more maintainable python scripts.\n",
    "In the lines below you have a peak of how a pipeline could look like. \n",
    "\n",
    "\n",
    "Inside the script you might find some further tasks to complete!"
   ]
  },
  {
   "cell_type": "code",
   "execution_count": 1,
   "metadata": {},
   "outputs": [],
   "source": [
    "# this lines are necessary so you can edit python files and get the changes applied without needing to restart the notebook\n",
    "\n",
    "%load_ext autoreload\n",
    "%autoreload 2"
   ]
  },
  {
   "cell_type": "code",
   "execution_count": 6,
   "metadata": {},
   "outputs": [
    {
     "name": "stdout",
     "output_type": "stream",
     "text": [
      "Initializing sentence transformers\n"
     ]
    },
    {
     "name": "stderr",
     "output_type": "stream",
     "text": [
      "/home/codespace/.python/current/lib/python3.10/site-packages/huggingface_hub/file_download.py:1132: FutureWarning: `resume_download` is deprecated and will be removed in version 1.0.0. Downloads always resume when possible. If you want to force a new download, use `force_download=True`.\n",
      "  warnings.warn(\n"
     ]
    }
   ],
   "source": [
    "# load the pipeline and train\n",
    "from workshop.pipeline import Pipeline\n",
    "pipeline = Pipeline()\n"
   ]
  },
  {
   "cell_type": "markdown",
   "metadata": {},
   "source": [
    "# Task 8 - Add mlflow to the pipeline\n",
    "\n",
    "You have to edit the file workshop/pipeline.py\n",
    "\n",
    "\n",
    "Pro tip: use the autolog feature of mlflow. Search on its official documentation on how to do it."
   ]
  },
  {
   "cell_type": "code",
   "execution_count": 7,
   "metadata": {},
   "outputs": [
    {
     "name": "stdout",
     "output_type": "stream",
     "text": [
      "Sampling the training set to a smaller quantity 500 \n",
      "Encoding embeddings\n"
     ]
    },
    {
     "data": {
      "application/vnd.jupyter.widget-view+json": {
       "model_id": "0d18adf943314669897e5486dc8dc82c",
       "version_major": 2,
       "version_minor": 0
      },
      "text/plain": [
       "Batches:   0%|          | 0/16 [00:00<?, ?it/s]"
      ]
     },
     "metadata": {},
     "output_type": "display_data"
    },
    {
     "name": "stderr",
     "output_type": "stream",
     "text": [
      "2024/06/03 19:56:21 WARNING mlflow.utils.autologging_utils: You are using an unsupported version of transformers. If you encounter errors during autologging, try upgrading / downgrading transformers to a supported version, or try upgrading MLflow.\n",
      "2024/06/03 19:56:21 INFO mlflow.tracking.fluent: Autologging successfully enabled for transformers.\n",
      "2024/06/03 19:56:21 INFO mlflow.tracking.fluent: Autologging successfully enabled for sklearn.\n",
      "2024/06/03 19:56:21 WARNING mlflow.sklearn: Failed to log training dataset information to MLflow Tracking. Reason: 'Series' object has no attribute 'flatten'\n"
     ]
    },
    {
     "name": "stdout",
     "output_type": "stream",
     "text": [
      "Training KNN\n"
     ]
    },
    {
     "name": "stderr",
     "output_type": "stream",
     "text": [
      "/home/codespace/.local/lib/python3.10/site-packages/sklearn/metrics/_classification.py:2981: UserWarning: The y_pred values do not sum to one. Starting from 1.5 thiswill result in an error.\n",
      "  warnings.warn(\n",
      "2024/06/03 19:56:33 WARNING mlflow.utils.autologging_utils: MLflow autologging encountered a warning: \"/home/codespace/.python/current/lib/python3.10/site-packages/_distutils_hack/__init__.py:33: UserWarning: Setuptools is replacing distutils.\"\n",
      "/home/codespace/.local/lib/python3.10/site-packages/sklearn/metrics/_classification.py:1509: UndefinedMetricWarning: Precision is ill-defined and being set to 0.0 in labels with no predicted samples. Use `zero_division` parameter to control this behavior.\n",
      "  _warn_prf(average, modifier, f\"{metric.capitalize()} is\", len(result))\n",
      "/home/codespace/.local/lib/python3.10/site-packages/sklearn/metrics/_classification.py:1509: UndefinedMetricWarning: Precision is ill-defined and being set to 0.0 in labels with no predicted samples. Use `zero_division` parameter to control this behavior.\n",
      "  _warn_prf(average, modifier, f\"{metric.capitalize()} is\", len(result))\n",
      "/home/codespace/.local/lib/python3.10/site-packages/sklearn/metrics/_classification.py:1509: UndefinedMetricWarning: Precision is ill-defined and being set to 0.0 in labels with no predicted samples. Use `zero_division` parameter to control this behavior.\n",
      "  _warn_prf(average, modifier, f\"{metric.capitalize()} is\", len(result))\n"
     ]
    },
    {
     "name": "stdout",
     "output_type": "stream",
     "text": [
      "                                                  precision    recall  f1-score   support\n",
      "\n",
      "                           Refund_not_showing_up       1.00      1.00      1.00         3\n",
      "                                       age_limit       1.00      1.00      1.00         1\n",
      "                         apple_pay_or_google_pay       1.00      1.00      1.00         1\n",
      "         balance_not_updated_after_bank_transfer       0.33      0.25      0.29         4\n",
      "balance_not_updated_after_cheque_or_cash_deposit       0.67      0.67      0.67         3\n",
      "                         beneficiary_not_allowed       1.00      1.00      1.00         3\n",
      "                                 cancel_transfer       1.00      1.00      1.00         1\n",
      "                            card_about_to_expire       1.00      0.50      0.67         2\n",
      "                          card_delivery_estimate       1.00      1.00      1.00         1\n",
      "                                card_not_working       1.00      1.00      1.00         1\n",
      "                        card_payment_fee_charged       1.00      1.00      1.00         1\n",
      "                     card_payment_not_recognised       0.50      0.33      0.40         3\n",
      "                card_payment_wrong_exchange_rate       0.67      0.40      0.50         5\n",
      "                  cash_withdrawal_not_recognised       0.00      0.00      0.00         1\n",
      "                                      change_pin       0.00      0.00      0.00         1\n",
      "                                 country_support       1.00      1.00      1.00         1\n",
      "                           declined_card_payment       1.00      1.00      1.00         1\n",
      "                        declined_cash_withdrawal       1.00      1.00      1.00         2\n",
      "             direct_debit_payment_not_recognised       0.60      1.00      0.75         3\n",
      "                          disposable_card_limits       0.75      1.00      0.86         3\n",
      "                           edit_personal_details       1.00      1.00      1.00         4\n",
      "                                 exchange_charge       1.00      1.00      1.00         1\n",
      "                                   exchange_rate       0.00      0.00      0.00         1\n",
      "                                exchange_via_app       0.50      1.00      0.67         1\n",
      "                           fiat_currency_support       1.00      1.00      1.00         2\n",
      "                     get_disposable_virtual_card       0.00      0.00      0.00         1\n",
      "                              getting_spare_card       1.00      1.00      1.00         1\n",
      "                             lost_or_stolen_card       1.00      1.00      1.00         1\n",
      "                             order_physical_card       0.50      1.00      0.67         1\n",
      "                              passcode_forgotten       1.00      1.00      1.00         1\n",
      "                         pending_cash_withdrawal       0.60      0.75      0.67         4\n",
      "                                  pending_top_up       0.25      1.00      0.40         1\n",
      "                                pending_transfer       0.25      0.33      0.29         3\n",
      "                                     pin_blocked       0.67      1.00      0.80         2\n",
      "                                 receiving_money       1.00      0.50      0.67         2\n",
      "                                  request_refund       1.00      1.00      1.00         1\n",
      "                          reverted_card_payment?       1.00      1.00      1.00         1\n",
      "                  top_up_by_bank_transfer_charge       0.00      0.00      0.00         2\n",
      "                           top_up_by_card_charge       1.00      1.00      1.00         3\n",
      "                                 top_up_reverted       0.00      0.00      0.00         3\n",
      "                              topping_up_by_card       0.00      0.00      0.00         1\n",
      "                       transaction_charged_twice       1.00      0.33      0.50         3\n",
      "                            transfer_fee_charged       0.50      1.00      0.67         1\n",
      "                           transfer_into_account       0.00      0.00      0.00         1\n",
      "              transfer_not_received_by_recipient       0.25      1.00      0.40         1\n",
      "                                 transfer_timing       0.00      0.00      0.00         2\n",
      "                       unable_to_verify_identity       0.00      0.00      0.00         1\n",
      "                              verify_my_identity       0.67      1.00      0.80         2\n",
      "                          verify_source_of_funds       1.00      1.00      1.00         2\n",
      "                                   verify_top_up       1.00      1.00      1.00         2\n",
      "                        virtual_card_not_working       1.00      1.00      1.00         1\n",
      "                              visa_or_mastercard       1.00      1.00      1.00         3\n",
      "                   wrong_amount_of_cash_received       0.25      0.50      0.33         2\n",
      "         wrong_exchange_rate_for_cash_withdrawal       0.00      0.00      0.00         1\n",
      "\n",
      "                                        accuracy                           0.68       100\n",
      "                                       macro avg       0.65      0.70      0.65       100\n",
      "                                    weighted avg       0.67      0.68      0.65       100\n",
      "\n",
      "Prediction for I still haven't recieved my card, when will it be ready?\n",
      "['card_arrival']\n",
      "Prediction for lost my card\n",
      "['lost_or_stolen_card']\n"
     ]
    }
   ],
   "source": [
    "# reduce the size of the train dataset for training the model faster\n",
    "pipeline.train(sample_train_n=500)\n",
    "pipeline.predict(\"lost my card\")"
   ]
  },
  {
   "cell_type": "markdown",
   "metadata": {},
   "source": [
    "## Task 9 - Visualize all mlflow models via the mlflow ui\n",
    "\n",
    "Tip: in the terminal use the command ```mlflow server``` to launch the UI.\n",
    "\n",
    "Explore the files inside each model, you will see that models trained with autolog have quite some interesting stuff inside :)\n",
    "\n"
   ]
  },
  {
   "cell_type": "markdown",
   "metadata": {},
   "source": [
    "# Next\n",
    "\n",
    "Continue on the file workshop/streamlit_ui.py"
   ]
  }
 ],
 "metadata": {
  "kernelspec": {
   "display_name": "Python 3",
   "language": "python",
   "name": "python3"
  },
  "language_info": {
   "codemirror_mode": {
    "name": "ipython",
    "version": 3
   },
   "file_extension": ".py",
   "mimetype": "text/x-python",
   "name": "python",
   "nbconvert_exporter": "python",
   "pygments_lexer": "ipython3",
   "version": "3.10.13"
  }
 },
 "nbformat": 4,
 "nbformat_minor": 2
}
