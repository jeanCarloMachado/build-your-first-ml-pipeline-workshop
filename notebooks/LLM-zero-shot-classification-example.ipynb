{
 "cells": [
  {
   "cell_type": "markdown",
   "id": "e33dde49-d770-44b6-b8db-d85396ab9213",
   "metadata": {},
   "source": [
    "# Zero-shot classification \n"
   ]
  },
  {
   "cell_type": "code",
   "execution_count": 1,
   "id": "64c1371a-975b-454c-870f-07a365d8d1e5",
   "metadata": {},
   "outputs": [],
   "source": [
    "from transformers import pipeline\n",
    "import pandas as pd\n",
    "from datasets import load_dataset\n",
    "from sentence_transformers import SentenceTransformer"
   ]
  },
  {
   "cell_type": "markdown",
   "id": "95eb9aa7-50f0-49a0-a702-15ba85e97ad4",
   "metadata": {},
   "source": [
    "## Prepare Data"
   ]
  },
  {
   "cell_type": "code",
   "execution_count": 12,
   "id": "d994e805-6b04-4c0c-acfa-f36ad304e456",
   "metadata": {},
   "outputs": [],
   "source": [
    "sample_size = 100  # Running model is resourceful, so we limit sample size"
   ]
  },
  {
   "cell_type": "code",
   "execution_count": 2,
   "id": "c1064220-db0b-463b-a46f-87aaae336894",
   "metadata": {},
   "outputs": [],
   "source": [
    "dataset = load_dataset(\"PolyAI/banking77\", revision=\"main\") # taking the data from the main branch\n",
    "train_data = pd.DataFrame(dataset['train'])\n",
    "test_data = pd.DataFrame(dataset['test'])\n",
    "\n",
    "label_names = [\n",
    "            \"activate_my_card\",\n",
    "            \"age_limit\",\n",
    "            \"apple_pay_or_google_pay\",\n",
    "            \"atm_support\",\n",
    "            \"automatic_top_up\",\n",
    "            \"balance_not_updated_after_bank_transfer\",\n",
    "            \"balance_not_updated_after_cheque_or_cash_deposit\",\n",
    "            \"beneficiary_not_allowed\",\n",
    "            \"cancel_transfer\",\n",
    "            \"card_about_to_expire\",\n",
    "            \"card_acceptance\",\n",
    "            \"card_arrival\",\n",
    "            \"card_delivery_estimate\",\n",
    "            \"card_linking\",\n",
    "            \"card_not_working\",\n",
    "            \"card_payment_fee_charged\",\n",
    "            \"card_payment_not_recognised\",\n",
    "            \"card_payment_wrong_exchange_rate\",\n",
    "            \"card_swallowed\",\n",
    "            \"cash_withdrawal_charge\",\n",
    "            \"cash_withdrawal_not_recognised\",\n",
    "            \"change_pin\",\n",
    "            \"compromised_card\",\n",
    "            \"contactless_not_working\",\n",
    "            \"country_support\",\n",
    "            \"declined_card_payment\",\n",
    "            \"declined_cash_withdrawal\",\n",
    "            \"declined_transfer\",\n",
    "            \"direct_debit_payment_not_recognised\",\n",
    "            \"disposable_card_limits\",\n",
    "            \"edit_personal_details\",\n",
    "            \"exchange_charge\",\n",
    "            \"exchange_rate\",\n",
    "            \"exchange_via_app\",\n",
    "            \"extra_charge_on_statement\",\n",
    "            \"failed_transfer\",\n",
    "            \"fiat_currency_support\",\n",
    "            \"get_disposable_virtual_card\",\n",
    "            \"get_physical_card\",\n",
    "            \"getting_spare_card\",\n",
    "            \"getting_virtual_card\",\n",
    "            \"lost_or_stolen_card\",\n",
    "            \"lost_or_stolen_phone\",\n",
    "            \"order_physical_card\",\n",
    "            \"passcode_forgotten\",\n",
    "            \"pending_card_payment\",\n",
    "            \"pending_cash_withdrawal\",\n",
    "            \"pending_top_up\",\n",
    "            \"pending_transfer\",\n",
    "            \"pin_blocked\",\n",
    "            \"receiving_money\",\n",
    "            \"Refund_not_showing_up\",\n",
    "            \"request_refund\",\n",
    "            \"reverted_card_payment?\",\n",
    "            \"supported_cards_and_currencies\",\n",
    "            \"terminate_account\",\n",
    "            \"top_up_by_bank_transfer_charge\",\n",
    "            \"top_up_by_card_charge\",\n",
    "            \"top_up_by_cash_or_cheque\",\n",
    "            \"top_up_failed\",\n",
    "            \"top_up_limits\",\n",
    "            \"top_up_reverted\",\n",
    "            \"topping_up_by_card\",\n",
    "            \"transaction_charged_twice\",\n",
    "            \"transfer_fee_charged\",\n",
    "            \"transfer_into_account\",\n",
    "            \"transfer_not_received_by_recipient\",\n",
    "            \"transfer_timing\",\n",
    "            \"unable_to_verify_identity\",\n",
    "            \"verify_my_identity\",\n",
    "            \"verify_source_of_funds\",\n",
    "            \"verify_top_up\",\n",
    "            \"virtual_card_not_working\",\n",
    "            \"visa_or_mastercard\",\n",
    "            \"why_verify_identity\",\n",
    "            \"wrong_amount_of_cash_received\",\n",
    "            \"wrong_exchange_rate_for_cash_withdrawal\"]\n",
    "\n",
    "train_data[\"label_name\"] = train_data[\"label\"].apply(lambda x: label_names[x])\n",
    "test_data[\"label_name\"] = test_data[\"label\"].apply(lambda x: label_names[x])\n",
    "eval_data: pd.DataFrame = train_data.sample(sample_size)"
   ]
  },
  {
   "cell_type": "markdown",
   "id": "15d360d2-eb93-449c-9981-45cd0fc5acf8",
   "metadata": {},
   "source": [
    "## Import Model\n",
    "More about this model: https://huggingface.co/MoritzLaurer/DeBERTa-v3-base-mnli-fever-anli\n"
   ]
  },
  {
   "cell_type": "code",
   "execution_count": 9,
   "id": "7d272f1f-f51c-4f84-a81c-22f8b2f4778d",
   "metadata": {},
   "outputs": [],
   "source": [
    "# Initialize classificator\n",
    "classifier = pipeline(\"zero-shot-classification\", model=\"MoritzLaurer/DeBERTa-v3-base-mnli-fever-anli\")"
   ]
  },
  {
   "cell_type": "markdown",
   "id": "f39da05c-96b3-49a7-9217-7cddcb4fd3c8",
   "metadata": {},
   "source": [
    "## Run Predictions"
   ]
  },
  {
   "cell_type": "code",
   "execution_count": 10,
   "id": "7189d961-1310-4431-b2df-1110dbeea7cf",
   "metadata": {},
   "outputs": [
    {
     "name": "stderr",
     "output_type": "stream",
     "text": [
      "Asking to truncate to max_length but no maximum length is provided and the model has no predefined maximum length. Default to no truncation.\n"
     ]
    },
    {
     "name": "stdout",
     "output_type": "stream",
     "text": [
      "0.33\n"
     ]
    }
   ],
   "source": [
    "# Run prediction\n",
    "predictions = []\n",
    "def get_predicted_label(prediction):\n",
    "    highest_score_idx = prediction['scores'].index(max(prediction['scores']))\n",
    "    return prediction['labels'][highest_score_idx]\n",
    "\n",
    "predictions: list = classifier(eval_data['text'].tolist(), label_names)\n",
    "predicted_labels = list(map(get_predicted_label, predictions))\n",
    "\n",
    "eval_data['pred'] = predicted_labels\n",
    "percentage_correct = (eval_data['label_name'] == eval_data['pred']).mean()\n",
    "print(percentage_correct)"
   ]
  },
  {
   "cell_type": "code",
   "execution_count": 11,
   "id": "c0e7c779-bc49-4738-bdf6-536533abdad6",
   "metadata": {},
   "outputs": [
    {
     "name": "stdout",
     "output_type": "stream",
     "text": [
      "                                                  precision    recall  f1-score   support\n",
      "\n",
      "                           Refund_not_showing_up       1.00      0.50      0.67         2\n",
      "                                activate_my_card       0.00      0.00      0.00         3\n",
      "                                       age_limit       0.00      0.00      0.00         1\n",
      "                                     atm_support       0.00      0.00      0.00         1\n",
      "                                automatic_top_up       1.00      0.50      0.67         2\n",
      "         balance_not_updated_after_bank_transfer       1.00      1.00      1.00         1\n",
      "balance_not_updated_after_cheque_or_cash_deposit       0.75      0.60      0.67         5\n",
      "                                 cancel_transfer       0.00      0.00      0.00         1\n",
      "                            card_about_to_expire       0.67      1.00      0.80         2\n",
      "                                 card_acceptance       0.00      0.00      0.00         0\n",
      "                                    card_arrival       0.00      0.00      0.00         1\n",
      "                          card_delivery_estimate       1.00      1.00      1.00         1\n",
      "                                    card_linking       0.00      0.00      0.00         1\n",
      "                                card_not_working       0.00      0.00      0.00         0\n",
      "                        card_payment_fee_charged       1.00      1.00      1.00         2\n",
      "                card_payment_wrong_exchange_rate       0.00      0.00      0.00         1\n",
      "                                  card_swallowed       0.00      0.00      0.00         1\n",
      "                          cash_withdrawal_charge       0.67      0.67      0.67         3\n",
      "                  cash_withdrawal_not_recognised       0.00      0.00      0.00         2\n",
      "                                compromised_card       0.00      0.00      0.00         2\n",
      "                                 country_support       0.00      0.00      0.00         2\n",
      "                           declined_card_payment       0.00      0.00      0.00         1\n",
      "                        declined_cash_withdrawal       0.00      0.00      0.00         1\n",
      "             direct_debit_payment_not_recognised       1.00      0.50      0.67         2\n",
      "                          disposable_card_limits       0.00      0.00      0.00         2\n",
      "                           edit_personal_details       0.00      0.00      0.00         3\n",
      "                                 exchange_charge       0.00      0.00      0.00         2\n",
      "                                   exchange_rate       0.00      0.00      0.00         1\n",
      "                                exchange_via_app       0.00      0.00      0.00         1\n",
      "                       extra_charge_on_statement       0.00      0.00      0.00         1\n",
      "                                 failed_transfer       0.00      0.00      0.00         1\n",
      "                           fiat_currency_support       0.00      0.00      0.00         0\n",
      "                     get_disposable_virtual_card       0.00      0.00      0.00         2\n",
      "                              getting_spare_card       1.00      0.67      0.80         3\n",
      "                            getting_virtual_card       0.00      0.00      0.00         1\n",
      "                            lost_or_stolen_phone       1.00      0.67      0.80         3\n",
      "                             order_physical_card       0.00      0.00      0.00         1\n",
      "                              passcode_forgotten       0.00      0.00      0.00         1\n",
      "                            pending_card_payment       0.00      0.00      0.00         3\n",
      "                         pending_cash_withdrawal       0.00      0.00      0.00         1\n",
      "                                  pending_top_up       0.00      0.00      0.00         4\n",
      "                                pending_transfer       0.00      0.00      0.00         0\n",
      "                                 receiving_money       0.00      0.00      0.00         2\n",
      "                                  request_refund       0.00      0.00      0.00         1\n",
      "                          reverted_card_payment?       0.00      0.00      0.00         3\n",
      "                  supported_cards_and_currencies       0.00      0.00      0.00         1\n",
      "                  top_up_by_bank_transfer_charge       0.00      0.00      0.00         1\n",
      "                           top_up_by_card_charge       0.00      0.00      0.00         1\n",
      "                                   top_up_failed       0.50      0.67      0.57         3\n",
      "                                   top_up_limits       1.00      1.00      1.00         3\n",
      "                                 top_up_reverted       0.00      0.00      0.00         1\n",
      "                              topping_up_by_card       0.00      0.00      0.00         0\n",
      "                       transaction_charged_twice       0.67      1.00      0.80         2\n",
      "                            transfer_fee_charged       1.00      1.00      1.00         1\n",
      "                           transfer_into_account       0.50      1.00      0.67         1\n",
      "              transfer_not_received_by_recipient       0.17      1.00      0.29         1\n",
      "                                 transfer_timing       0.00      0.00      0.00         2\n",
      "                       unable_to_verify_identity       0.00      0.00      0.00         0\n",
      "                              verify_my_identity       1.00      1.00      1.00         1\n",
      "                          verify_source_of_funds       0.50      0.33      0.40         3\n",
      "                                   verify_top_up       0.00      0.00      0.00         1\n",
      "                              visa_or_mastercard       0.00      0.00      0.00         1\n",
      "                             why_verify_identity       1.00      1.00      1.00         1\n",
      "                   wrong_amount_of_cash_received       0.33      1.00      0.50         1\n",
      "         wrong_exchange_rate_for_cash_withdrawal       1.00      1.00      1.00         1\n",
      "\n",
      "                                        accuracy                           0.33       100\n",
      "                                       macro avg       0.27      0.28      0.26       100\n",
      "                                    weighted avg       0.35      0.33      0.33       100\n",
      "\n"
     ]
    },
    {
     "name": "stderr",
     "output_type": "stream",
     "text": [
      "/Users/e.batanina/MLOPS/build-your-first-ml-pipeline-workshop/venv/lib/python3.11/site-packages/sklearn/metrics/_classification.py:1517: UndefinedMetricWarning: Precision is ill-defined and being set to 0.0 in labels with no predicted samples. Use `zero_division` parameter to control this behavior.\n",
      "  _warn_prf(average, modifier, f\"{metric.capitalize()} is\", len(result))\n",
      "/Users/e.batanina/MLOPS/build-your-first-ml-pipeline-workshop/venv/lib/python3.11/site-packages/sklearn/metrics/_classification.py:1517: UndefinedMetricWarning: Recall is ill-defined and being set to 0.0 in labels with no true samples. Use `zero_division` parameter to control this behavior.\n",
      "  _warn_prf(average, modifier, f\"{metric.capitalize()} is\", len(result))\n",
      "/Users/e.batanina/MLOPS/build-your-first-ml-pipeline-workshop/venv/lib/python3.11/site-packages/sklearn/metrics/_classification.py:1517: UndefinedMetricWarning: Precision is ill-defined and being set to 0.0 in labels with no predicted samples. Use `zero_division` parameter to control this behavior.\n",
      "  _warn_prf(average, modifier, f\"{metric.capitalize()} is\", len(result))\n",
      "/Users/e.batanina/MLOPS/build-your-first-ml-pipeline-workshop/venv/lib/python3.11/site-packages/sklearn/metrics/_classification.py:1517: UndefinedMetricWarning: Recall is ill-defined and being set to 0.0 in labels with no true samples. Use `zero_division` parameter to control this behavior.\n",
      "  _warn_prf(average, modifier, f\"{metric.capitalize()} is\", len(result))\n",
      "/Users/e.batanina/MLOPS/build-your-first-ml-pipeline-workshop/venv/lib/python3.11/site-packages/sklearn/metrics/_classification.py:1517: UndefinedMetricWarning: Precision is ill-defined and being set to 0.0 in labels with no predicted samples. Use `zero_division` parameter to control this behavior.\n",
      "  _warn_prf(average, modifier, f\"{metric.capitalize()} is\", len(result))\n",
      "/Users/e.batanina/MLOPS/build-your-first-ml-pipeline-workshop/venv/lib/python3.11/site-packages/sklearn/metrics/_classification.py:1517: UndefinedMetricWarning: Recall is ill-defined and being set to 0.0 in labels with no true samples. Use `zero_division` parameter to control this behavior.\n",
      "  _warn_prf(average, modifier, f\"{metric.capitalize()} is\", len(result))\n"
     ]
    }
   ],
   "source": [
    "from sklearn.metrics import classification_report\n",
    "print(classification_report(eval_data['label_name'], eval_data['pred']))"
   ]
  },
  {
   "cell_type": "code",
   "execution_count": null,
   "id": "3457a9ab-3b35-467e-a162-3efdc32c9be8",
   "metadata": {},
   "outputs": [],
   "source": []
  }
 ],
 "metadata": {
  "kernelspec": {
   "display_name": "Python 3 (ipykernel)",
   "language": "python",
   "name": "python3"
  },
  "language_info": {
   "codemirror_mode": {
    "name": "ipython",
    "version": 3
   },
   "file_extension": ".py",
   "mimetype": "text/x-python",
   "name": "python",
   "nbconvert_exporter": "python",
   "pygments_lexer": "ipython3",
   "version": "3.11.6"
  }
 },
 "nbformat": 4,
 "nbformat_minor": 5
}
